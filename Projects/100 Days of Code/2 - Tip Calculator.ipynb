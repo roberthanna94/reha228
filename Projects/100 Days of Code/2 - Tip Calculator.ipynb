{
 "cells": [
  {
   "attachments": {},
   "cell_type": "markdown",
   "metadata": {},
   "source": [
    "# Tip Calculator\n",
    "This python notebook takes three inputs of bill total, number of people, and tip percent in order to output how much each guest should pay (if paying evenly)."
   ]
  },
  {
   "cell_type": "code",
   "execution_count": 8,
   "metadata": {},
   "outputs": [
    {
     "name": "stdout",
     "output_type": "stream",
     "text": [
      "The bill total entered was $150.00\n",
      "The number of guests entered was 5\n",
      "The amount of gratuity applied to the bill is 25%\n",
      "The amount each guest should pay is $37.50\n",
      "\n"
     ]
    }
   ],
   "source": [
    "bill_total = float(input(\"How much is the bill?\\n\"))\n",
    "num_people = float(input(\"How many people are at the table?\\n\"))\n",
    "tip_percent = (float\n",
    "               (input (\"How much would you like to tip?\\n\")) \n",
    "               * 0.01 \n",
    "               + 1)\n",
    "total_per_person = round(((bill_total/num_people) * tip_percent),2)\n",
    "\n",
    "print(\"The bill total entered was ${:0.2f}\".format(bill_total))\n",
    "print(f\"The number of guests entered was {int(num_people)}\")\n",
    "print(f\"The amount of gratuity applied to the bill is {round((tip_percent - 1) * 100)}%\")\n",
    "print('The amount each guest should pay is ${:0.2f}\\n'.format(total_per_person))"
   ]
  },
  {
   "cell_type": "code",
   "execution_count": null,
   "metadata": {},
   "outputs": [],
   "source": []
  }
 ],
 "metadata": {
  "kernelspec": {
   "display_name": "hundred_days_of_code",
   "language": "python",
   "name": "python3"
  },
  "language_info": {
   "codemirror_mode": {
    "name": "ipython",
    "version": 3
   },
   "file_extension": ".py",
   "mimetype": "text/x-python",
   "name": "python",
   "nbconvert_exporter": "python",
   "pygments_lexer": "ipython3",
   "version": "3.9.16"
  },
  "orig_nbformat": 4
 },
 "nbformat": 4,
 "nbformat_minor": 2
}
