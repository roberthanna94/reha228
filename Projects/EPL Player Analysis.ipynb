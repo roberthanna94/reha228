{
 "cells": [
  {
   "cell_type": "code",
   "execution_count": 66,
   "metadata": {},
   "outputs": [],
   "source": [
    "import pandas as pd"
   ]
  },
  {
   "cell_type": "code",
   "execution_count": 82,
   "metadata": {},
   "outputs": [],
   "source": [
    "df = pd.read_csv('/Users/roberthanna/Downloads/EPL player stats - Sheet1.csv')"
   ]
  },
  {
   "cell_type": "code",
   "execution_count": 85,
   "metadata": {},
   "outputs": [
    {
     "data": {
      "text/html": [
       "<div>\n",
       "<style scoped>\n",
       "    .dataframe tbody tr th:only-of-type {\n",
       "        vertical-align: middle;\n",
       "    }\n",
       "\n",
       "    .dataframe tbody tr th {\n",
       "        vertical-align: top;\n",
       "    }\n",
       "\n",
       "    .dataframe thead th {\n",
       "        text-align: right;\n",
       "    }\n",
       "</style>\n",
       "<table border=\"1\" class=\"dataframe\">\n",
       "  <thead>\n",
       "    <tr style=\"text-align: right;\">\n",
       "      <th></th>\n",
       "      <th>Player</th>\n",
       "      <th>Club</th>\n",
       "      <th>date_of_birth</th>\n",
       "      <th>Height</th>\n",
       "      <th>Position</th>\n",
       "      <th>season</th>\n",
       "    </tr>\n",
       "  </thead>\n",
       "  <tbody>\n",
       "    <tr>\n",
       "      <th>0</th>\n",
       "      <td>Brenden Aaronson</td>\n",
       "      <td>Leeds United</td>\n",
       "      <td>2000</td>\n",
       "      <td>178</td>\n",
       "      <td>MF</td>\n",
       "      <td>2021-01-01</td>\n",
       "    </tr>\n",
       "    <tr>\n",
       "      <th>1</th>\n",
       "      <td>Zach Abbott</td>\n",
       "      <td>Nottingham Forest</td>\n",
       "      <td>2006</td>\n",
       "      <td>173</td>\n",
       "      <td>DF</td>\n",
       "      <td>2021-01-01</td>\n",
       "    </tr>\n",
       "    <tr>\n",
       "      <th>2</th>\n",
       "      <td>Terry Ablade</td>\n",
       "      <td>Fulham FC</td>\n",
       "      <td>2001</td>\n",
       "      <td>181</td>\n",
       "      <td>FW</td>\n",
       "      <td>2021-01-01</td>\n",
       "    </tr>\n",
       "    <tr>\n",
       "      <th>3</th>\n",
       "      <td>Adama Traoré</td>\n",
       "      <td>Wolverhampton Wanderers</td>\n",
       "      <td>1996</td>\n",
       "      <td>178</td>\n",
       "      <td>FW</td>\n",
       "      <td>2021-01-01</td>\n",
       "    </tr>\n",
       "    <tr>\n",
       "      <th>4</th>\n",
       "      <td>Ché Adams</td>\n",
       "      <td>Southampton FC</td>\n",
       "      <td>1996</td>\n",
       "      <td>179</td>\n",
       "      <td>FW</td>\n",
       "      <td>2021-01-01</td>\n",
       "    </tr>\n",
       "  </tbody>\n",
       "</table>\n",
       "</div>"
      ],
      "text/plain": [
       "             Player                     Club  date_of_birth Height Position   \n",
       "0  Brenden Aaronson             Leeds United           2000   178        MF  \\\n",
       "1       Zach Abbott        Nottingham Forest           2006    173       DF   \n",
       "2      Terry Ablade                Fulham FC           2001   181        FW   \n",
       "3      Adama Traoré  Wolverhampton Wanderers           1996   178        FW   \n",
       "4         Ché Adams           Southampton FC           1996   179        FW   \n",
       "\n",
       "      season  \n",
       "0 2021-01-01  \n",
       "1 2021-01-01  \n",
       "2 2021-01-01  \n",
       "3 2021-01-01  \n",
       "4 2021-01-01  "
      ]
     },
     "execution_count": 85,
     "metadata": {},
     "output_type": "execute_result"
    }
   ],
   "source": [
    "df.head()"
   ]
  },
  {
   "cell_type": "code",
   "execution_count": 84,
   "metadata": {},
   "outputs": [],
   "source": [
    "df.Height = df.Height.str.replace('cm', '')\n",
    "\n",
    "df = df.rename(columns = {\"2021-2022\":\"season\",\n",
    "                        \"born\":\"date_of_birth\"})\n",
    "df.season = df.season.str[0:4]\n",
    "df.season = pd.to_datetime(df.season, format = '%Y')\n",
    "\n",
    "df.date_of_birth = pd.to_datetime(df.date_of_birth, format = '%d/%m/%Y').dt.year\n"
   ]
  },
  {
   "cell_type": "code",
   "execution_count": 70,
   "metadata": {},
   "outputs": [
    {
     "data": {
      "text/plain": [
       "array(['Leeds United', 'Nottingham Forest', 'Fulham FC',\n",
       "       'Wolverhampton Wanderers', 'Southampton FC', 'Crystal Palace',\n",
       "       'Liverpool FC', 'AFC Bournemouth', 'West Ham United',\n",
       "       'Brentford FC', 'Manchester City', 'Aston Villa',\n",
       "       'Newcastle United', 'Leicester City', 'Manchester United',\n",
       "       'Chelsea FC', 'Tottenham Hotspur', 'Brighton & Hove Albion',\n",
       "       'Everton FC', 'Arsenal FC', 'Norwich City', 'Watford FC',\n",
       "       'Burnley FC'], dtype=object)"
      ]
     },
     "execution_count": 70,
     "metadata": {},
     "output_type": "execute_result"
    }
   ],
   "source": [
    "club_names = df.Club.unique()\n",
    "club_names"
   ]
  },
  {
   "cell_type": "code",
   "execution_count": 21,
   "metadata": {},
   "outputs": [],
   "source": [
    "tottenham = df.query('Club == \"Tottenham Hotspur\"')"
   ]
  },
  {
   "cell_type": "code",
   "execution_count": 22,
   "metadata": {},
   "outputs": [
    {
     "data": {
      "text/plain": [
       "42      188\n",
       "63      187\n",
       "72      182\n",
       "135     178\n",
       "138     181\n",
       "       ... \n",
       "1205    175\n",
       "1210    184\n",
       "1231    184\n",
       "1289    168\n",
       "1296    178\n",
       "Name: Height, Length: 61, dtype: int64"
      ]
     },
     "execution_count": 22,
     "metadata": {},
     "output_type": "execute_result"
    }
   ],
   "source": [
    "tottenham.Height.astype('int')"
   ]
  },
  {
   "cell_type": "code",
   "execution_count": null,
   "metadata": {},
   "outputs": [],
   "source": []
  }
 ],
 "metadata": {
  "kernelspec": {
   "display_name": "my_env",
   "language": "python",
   "name": "my_env"
  },
  "language_info": {
   "codemirror_mode": {
    "name": "ipython",
    "version": 3
   },
   "file_extension": ".py",
   "mimetype": "text/x-python",
   "name": "python",
   "nbconvert_exporter": "python",
   "pygments_lexer": "ipython3",
   "version": "3.9.7"
  },
  "orig_nbformat": 4
 },
 "nbformat": 4,
 "nbformat_minor": 2
}
